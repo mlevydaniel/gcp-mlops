{
 "cells": [
  {
   "cell_type": "code",
   "execution_count": 1,
   "id": "3aa0ce18-27fa-4440-9c27-300aa6ff9714",
   "metadata": {},
   "outputs": [],
   "source": [
    "from google.cloud import aiplatform\n",
    "aiplatform.init(project='dataanalytics-347914',location='us-central1')\n",
    "\n",
    "\n",
    "credit_request_entity_type = aiplatform.EntityType('projects/936546808722/locations/us-central1/featurestores/fs_credit_scoring/entityTypes/et_credit_request')\n",
    "\n",
    "customer_financial_profile_entity_type = aiplatform.EntityType('projects/936546808722/locations/us-central1/featurestores/fs_credit_scoring/entityTypes/et_customer_financial_profile')\n",
    "\n",
    "credit_context_entity_type = aiplatform.EntityType('projects/936546808722/locations/us-central1/featurestores/fs_credit_scoring/entityTypes/et_customer_credit_context')\n",
    "\n",
    "customer_demographics_entity_type = aiplatform.EntityType('projects/936546808722/locations/us-central1/featurestores/fs_credit_scoring/entityTypes/et_customer_demographics')"
   ]
  },
  {
   "cell_type": "code",
   "execution_count": 2,
   "id": "d88ac540-4462-4588-be99-efcce38eec4f",
   "metadata": {},
   "outputs": [],
   "source": [
    "import pandas as pd\n",
    "from google.cloud import storage\n",
    "import pytz\n",
    "from datetime import datetime \n",
    "\n",
    "storage_client = storage.Client()\n",
    "bucket = storage_client.bucket(\"udemy-gcp-mlops\")\n",
    "\n",
    "def purpose_encode(x):\n",
    "    if x == \"Consumer Goods\":\n",
    "        return 1\n",
    "    elif x == \"Vehicle\":\n",
    "        return 2\n",
    "    elif x == \"Tuition\":\n",
    "        return 3\n",
    "    elif x == \"Business\":\n",
    "        return 4\n",
    "    elif x == \"Repairs\":\n",
    "        return 5\n",
    "    else:\n",
    "        return 0\n",
    "\n",
    "def other_parties_encode(x):\n",
    "    if x == \"Guarantor\":\n",
    "        return 1\n",
    "    elif x == \"Co-Applicant\":\n",
    "        return 2\n",
    "    else:\n",
    "        return 0\n",
    "\n",
    "def qualification_encode(x):\n",
    "    if x == \"unskilled\":\n",
    "        return 1\n",
    "    elif x == \"skilled\":\n",
    "        return 2\n",
    "    elif x == \"highly skilled\":\n",
    "        return 3\n",
    "    else:\n",
    "        return 0\n",
    "\n",
    "def credit_standing_encode(x):\n",
    "    if x == \"good\":\n",
    "        return 1\n",
    "    else:\n",
    "        return 0\n",
    "\n",
    "def assets_encode(x):\n",
    "    if x == \"Vehicle\":\n",
    "        return 1\n",
    "    elif x == \"Investments\":\n",
    "        return 2\n",
    "    elif x == \"Home\":\n",
    "        return 3\n",
    "    else:\n",
    "        return 0\n",
    "\n",
    "def housing_encode(x):\n",
    "    if x == \"rent\":\n",
    "        return 1\n",
    "    elif x == \"own\":\n",
    "        return 2\n",
    "    else:\n",
    "        return 0\n",
    "\n",
    "def marital_status_encode(x):\n",
    "    if x == \"Married\":\n",
    "        return 1\n",
    "    elif x == \"Single\":\n",
    "        return 2\n",
    "    else:\n",
    "        return 0\n",
    "\n",
    "def other_payment_plans_encode(x):\n",
    "    if x == \"bank\":\n",
    "        return 1\n",
    "    elif x == \"stores\":\n",
    "        return 2\n",
    "    else:\n",
    "        return 0\n",
    "\n",
    "def sex_encode(x):\n",
    "    if x == \"M\":\n",
    "        return 1\n",
    "    else:\n",
    "        return 0\n",
    "    \n",
    "def credit_score_decode(x):\n",
    "    return \"Approved\" if x == 1 else \"Denied\"\n",
    "\n",
    "def preprocess_data(df):\n",
    "    df[\"PURPOSE_CODE\"] = df[\"PURPOSE\"].apply(purpose_encode)\n",
    "    df[\"OTHER_PARTIES_CODE\"] = df[\"OTHER_PARTIES\"].apply(other_parties_encode)\n",
    "    df[\"QUALIFICATION_CODE\"] = df[\"QUALIFICATION\"].apply(qualification_encode)\n",
    "    df[\"CREDIT_STANDING_CODE\"] = df[\"CREDIT_STANDING\"].apply(credit_standing_encode)\n",
    "    df[\"ASSETS_CODE\"] = df[\"ASSETS\"].apply(assets_encode)\n",
    "    df[\"HOUSING_CODE\"] = df[\"HOUSING\"].apply(housing_encode)\n",
    "    df[\"MARITAL_STATUS_CODE\"] = df[\"MARITAL_STATUS\"].apply(marital_status_encode)\n",
    "    df[\"OTHER_PAYMENT_PLANS_CODE\"] = df[\"OTHER_PAYMENT_PLANS\"].apply(other_payment_plans_encode)\n",
    "    df[\"SEX_CODE\"] = df[\"SEX\"].apply(sex_encode)\n",
    "\n",
    "    columns_to_drop = [\"PURPOSE\", \"OTHER_PARTIES\", \"QUALIFICATION\", \"CREDIT_STANDING\",\n",
    "                       \"ASSETS\", \"HOUSING\", \"MARITAL_STATUS\", \"OTHER_PAYMENT_PLANS\", \"SEX\"]\n",
    "    df = df.drop(columns=columns_to_drop)\n",
    "\n",
    "    return df\n",
    "\n",
    "input_file = \"gs://udemy-gcp-mlops/credit_files.csv\"\n",
    "\n",
    "df = pd.read_csv(input_file)\n",
    "credit_df = preprocess_data(df)\n",
    "\n",
    "current_time = datetime.now(pytz.utc)\n",
    "credit_df['update_time'] = current_time"
   ]
  },
  {
   "cell_type": "code",
   "execution_count": 3,
   "id": "4f3ee02d-84a7-43a9-bb26-c1d1548a619d",
   "metadata": {},
   "outputs": [
    {
     "name": "stderr",
     "output_type": "stream",
     "text": [
      "/var/folders/s5/rdg9kttj7n9f1wwq0lrqtz_c0000gn/T/ipykernel_80489/3228779988.py:7: SettingWithCopyWarning: \n",
      "A value is trying to be set on a copy of a slice from a DataFrame.\n",
      "Try using .loc[row_indexer,col_indexer] = value instead\n",
      "\n",
      "See the caveats in the documentation: https://pandas.pydata.org/pandas-docs/stable/user_guide/indexing.html#returning-a-view-versus-a-copy\n",
      "  df_credit_request['credit_request_id'] = df_credit_request['credit_request_id'].astype(str)\n"
     ]
    }
   ],
   "source": [
    "credit_request_cols = ['CREDIT_REQUEST_ID', 'CREDIT_AMOUNT', 'CREDIT_DURATION', \n",
    "                       'INSTALLMENT_COMMITMENT', 'CREDIT_SCORE','update_time']\n",
    "\n",
    "df_credit_request = credit_df[credit_request_cols]\n",
    "\n",
    "df_credit_request.columns = df_credit_request.columns.str.lower()\n",
    "df_credit_request['credit_request_id'] = df_credit_request['credit_request_id'].astype(str)"
   ]
  },
  {
   "cell_type": "code",
   "execution_count": 4,
   "id": "8c3a8ca2-0804-4a6e-85f0-36da62a30d69",
   "metadata": {},
   "outputs": [
    {
     "name": "stderr",
     "output_type": "stream",
     "text": [
      "/var/folders/s5/rdg9kttj7n9f1wwq0lrqtz_c0000gn/T/ipykernel_80489/3445590622.py:7: SettingWithCopyWarning: \n",
      "A value is trying to be set on a copy of a slice from a DataFrame.\n",
      "Try using .loc[row_indexer,col_indexer] = value instead\n",
      "\n",
      "See the caveats in the documentation: https://pandas.pydata.org/pandas-docs/stable/user_guide/indexing.html#returning-a-view-versus-a-copy\n",
      "  df_customer_financial_profile['credit_request_id'] = df_customer_financial_profile['credit_request_id'].astype(str)\n"
     ]
    }
   ],
   "source": [
    "customer_financial_profile_cols = ['CREDIT_REQUEST_ID','CHECKING_BALANCE', 'SAVINGS_BALANCE',\n",
    "                                  'EXISTING_CREDITS', 'JOB_HISTORY','update_time']\n",
    "\n",
    "df_customer_financial_profile = credit_df[customer_financial_profile_cols]\n",
    "df_customer_financial_profile.columns = df_customer_financial_profile.columns.str.lower()\n",
    "\n",
    "df_customer_financial_profile['credit_request_id'] = df_customer_financial_profile['credit_request_id'].astype(str)\n"
   ]
  },
  {
   "cell_type": "code",
   "execution_count": 5,
   "id": "c28450e2-b45c-47f2-b8fc-4674a1e0d551",
   "metadata": {},
   "outputs": [
    {
     "name": "stderr",
     "output_type": "stream",
     "text": [
      "/var/folders/s5/rdg9kttj7n9f1wwq0lrqtz_c0000gn/T/ipykernel_80489/795535948.py:9: SettingWithCopyWarning: \n",
      "A value is trying to be set on a copy of a slice from a DataFrame.\n",
      "Try using .loc[row_indexer,col_indexer] = value instead\n",
      "\n",
      "See the caveats in the documentation: https://pandas.pydata.org/pandas-docs/stable/user_guide/indexing.html#returning-a-view-versus-a-copy\n",
      "  df_credit_context['credit_request_id'] = df_credit_context['credit_request_id'].astype(str)\n"
     ]
    }
   ],
   "source": [
    "credit_context_cols = ['CREDIT_REQUEST_ID','PURPOSE_CODE', 'OTHER_PARTIES_CODE', \n",
    "                       'QUALIFICATION_CODE', 'CREDIT_STANDING_CODE', 'ASSETS_CODE', \n",
    "                       'HOUSING_CODE', 'MARITAL_STATUS_CODE', 'OTHER_PAYMENT_PLANS_CODE','update_time']\n",
    "\n",
    "df_credit_context = credit_df[credit_context_cols]\n",
    "\n",
    "df_credit_context.columns = df_credit_context.columns.str.lower()\n",
    "\n",
    "df_credit_context['credit_request_id'] = df_credit_context['credit_request_id'].astype(str)\n"
   ]
  },
  {
   "cell_type": "code",
   "execution_count": 6,
   "id": "ee740ab4-eb11-48a6-a504-de5bc14e2783",
   "metadata": {},
   "outputs": [
    {
     "name": "stderr",
     "output_type": "stream",
     "text": [
      "/var/folders/s5/rdg9kttj7n9f1wwq0lrqtz_c0000gn/T/ipykernel_80489/3240495390.py:8: SettingWithCopyWarning: \n",
      "A value is trying to be set on a copy of a slice from a DataFrame.\n",
      "Try using .loc[row_indexer,col_indexer] = value instead\n",
      "\n",
      "See the caveats in the documentation: https://pandas.pydata.org/pandas-docs/stable/user_guide/indexing.html#returning-a-view-versus-a-copy\n",
      "  df_customer_demographics['credit_request_id'] = df_customer_demographics['credit_request_id'].astype(str)\n"
     ]
    }
   ],
   "source": [
    "customer_demographics_cols = ['CREDIT_REQUEST_ID','AGE', 'NUM_DEPENDENTS', \n",
    "                              'RESIDENCE_SINCE', 'SEX_CODE','update_time']\n",
    "\n",
    "df_customer_demographics = credit_df[customer_demographics_cols]\n",
    "\n",
    "df_customer_demographics.columns = df_customer_demographics.columns.str.lower()\n",
    "\n",
    "df_customer_demographics['credit_request_id'] = df_customer_demographics['credit_request_id'].astype(str)\n"
   ]
  },
  {
   "cell_type": "code",
   "execution_count": 7,
   "id": "07a84a37-38c8-49e3-a8aa-4782444bb73f",
   "metadata": {},
   "outputs": [
    {
     "name": "stdout",
     "output_type": "stream",
     "text": [
      "Received datetime-like column in the dataframe. Please note that the column could be interpreted differently in BigQuery depending on which major version you are using. For more information, please reference the BigQuery v3 release notes here: https://github.com/googleapis/python-bigquery/releases/tag/v3.0.0\n",
      "Importing EntityType feature values: projects/936546808722/locations/us-central1/featurestores/fs_credit_scoring/entityTypes/et_credit_request\n",
      "Import EntityType feature values backing LRO: projects/936546808722/locations/us-central1/featurestores/fs_credit_scoring/entityTypes/et_credit_request/operations/8594815495914389504\n",
      "EntityType feature values imported. Resource name: projects/936546808722/locations/us-central1/featurestores/fs_credit_scoring/entityTypes/et_credit_request\n"
     ]
    },
    {
     "data": {
      "text/plain": [
       "<google.cloud.aiplatform.featurestore.entity_type.EntityType object at 0x7f850ac01060> \n",
       "resource name: projects/936546808722/locations/us-central1/featurestores/fs_credit_scoring/entityTypes/et_credit_request"
      ]
     },
     "execution_count": 7,
     "metadata": {},
     "output_type": "execute_result"
    }
   ],
   "source": [
    "columns_to_ingest = ['credit_amount', 'credit_duration','installment_commitment','credit_score']\n",
    "\n",
    "credit_request_entity_type.ingest_from_df(\n",
    "    feature_ids=columns_to_ingest,\n",
    "    feature_time='update_time',\n",
    "    df_source=df_credit_request,\n",
    "    entity_id_field=\"credit_request_id\"\n",
    ")"
   ]
  },
  {
   "cell_type": "code",
   "execution_count": 8,
   "id": "a03b77a4-9fba-4146-af25-d4def1c5f3cb",
   "metadata": {},
   "outputs": [
    {
     "name": "stdout",
     "output_type": "stream",
     "text": [
      "Received datetime-like column in the dataframe. Please note that the column could be interpreted differently in BigQuery depending on which major version you are using. For more information, please reference the BigQuery v3 release notes here: https://github.com/googleapis/python-bigquery/releases/tag/v3.0.0\n",
      "Importing EntityType feature values: projects/936546808722/locations/us-central1/featurestores/fs_credit_scoring/entityTypes/et_customer_financial_profile\n",
      "Import EntityType feature values backing LRO: projects/936546808722/locations/us-central1/featurestores/fs_credit_scoring/entityTypes/et_customer_financial_profile/operations/6156116297693265920\n",
      "EntityType feature values imported. Resource name: projects/936546808722/locations/us-central1/featurestores/fs_credit_scoring/entityTypes/et_customer_financial_profile\n"
     ]
    },
    {
     "data": {
      "text/plain": [
       "<google.cloud.aiplatform.featurestore.entity_type.EntityType object at 0x7f84f9a39cc0> \n",
       "resource name: projects/936546808722/locations/us-central1/featurestores/fs_credit_scoring/entityTypes/et_customer_financial_profile"
      ]
     },
     "execution_count": 8,
     "metadata": {},
     "output_type": "execute_result"
    }
   ],
   "source": [
    "columns_to_ingest = ['checking_balance', 'savings_balance','existing_credits','job_history']\n",
    "\n",
    "customer_financial_profile_entity_type.ingest_from_df(\n",
    "    feature_ids=columns_to_ingest,\n",
    "    feature_time='update_time',\n",
    "    df_source=df_customer_financial_profile,\n",
    "    entity_id_field=\"credit_request_id\"\n",
    ")"
   ]
  },
  {
   "cell_type": "code",
   "execution_count": 9,
   "id": "8f96f7ce-6e48-4783-be42-e2fcc8069376",
   "metadata": {},
   "outputs": [
    {
     "name": "stdout",
     "output_type": "stream",
     "text": [
      "Received datetime-like column in the dataframe. Please note that the column could be interpreted differently in BigQuery depending on which major version you are using. For more information, please reference the BigQuery v3 release notes here: https://github.com/googleapis/python-bigquery/releases/tag/v3.0.0\n",
      "Importing EntityType feature values: projects/936546808722/locations/us-central1/featurestores/fs_credit_scoring/entityTypes/et_customer_credit_context\n",
      "Import EntityType feature values backing LRO: projects/936546808722/locations/us-central1/featurestores/fs_credit_scoring/entityTypes/et_customer_credit_context/operations/6021852733802283008\n",
      "EntityType feature values imported. Resource name: projects/936546808722/locations/us-central1/featurestores/fs_credit_scoring/entityTypes/et_customer_credit_context\n"
     ]
    },
    {
     "data": {
      "text/plain": [
       "<google.cloud.aiplatform.featurestore.entity_type.EntityType object at 0x7f84f9a753c0> \n",
       "resource name: projects/936546808722/locations/us-central1/featurestores/fs_credit_scoring/entityTypes/et_customer_credit_context"
      ]
     },
     "execution_count": 9,
     "metadata": {},
     "output_type": "execute_result"
    }
   ],
   "source": [
    "columns_to_ingest = ['purpose_code', 'other_parties_code','qualification_code','credit_standing_code',\n",
    "                    'assets_code','housing_code','marital_status_code','other_payment_plans_code']\n",
    "\n",
    "credit_context_entity_type.ingest_from_df(\n",
    "    feature_ids=columns_to_ingest,\n",
    "    feature_time='update_time',\n",
    "    df_source=df_credit_context,\n",
    "    entity_id_field=\"credit_request_id\"\n",
    ")"
   ]
  },
  {
   "cell_type": "code",
   "execution_count": 10,
   "id": "4540d69b-b860-45b4-a3d6-347beb302570",
   "metadata": {},
   "outputs": [
    {
     "name": "stdout",
     "output_type": "stream",
     "text": [
      "Received datetime-like column in the dataframe. Please note that the column could be interpreted differently in BigQuery depending on which major version you are using. For more information, please reference the BigQuery v3 release notes here: https://github.com/googleapis/python-bigquery/releases/tag/v3.0.0\n",
      "Importing EntityType feature values: projects/936546808722/locations/us-central1/featurestores/fs_credit_scoring/entityTypes/et_customer_demographics\n",
      "Import EntityType feature values backing LRO: projects/936546808722/locations/us-central1/featurestores/fs_credit_scoring/entityTypes/et_customer_demographics/operations/8230023926097379328\n",
      "EntityType feature values imported. Resource name: projects/936546808722/locations/us-central1/featurestores/fs_credit_scoring/entityTypes/et_customer_demographics\n"
     ]
    },
    {
     "data": {
      "text/plain": [
       "<google.cloud.aiplatform.featurestore.entity_type.EntityType object at 0x7f84f9a768c0> \n",
       "resource name: projects/936546808722/locations/us-central1/featurestores/fs_credit_scoring/entityTypes/et_customer_demographics"
      ]
     },
     "execution_count": 10,
     "metadata": {},
     "output_type": "execute_result"
    }
   ],
   "source": [
    "columns_to_ingest = ['age', 'num_dependents','residence_since','sex_code']\n",
    "\n",
    "customer_demographics_entity_type.ingest_from_df(\n",
    "    feature_ids=columns_to_ingest,\n",
    "    feature_time='update_time',\n",
    "    df_source=df_customer_demographics,\n",
    "    entity_id_field=\"credit_request_id\"\n",
    ")"
   ]
  }
 ],
 "metadata": {
  "environment": {
   "kernel": "python3",
   "name": "common-cpu.m109",
   "type": "gcloud",
   "uri": "gcr.io/deeplearning-platform-release/base-cpu:m109"
  },
  "kernelspec": {
   "display_name": "Python 3",
   "language": "python",
   "name": "python3"
  },
  "language_info": {
   "codemirror_mode": {
    "name": "ipython",
    "version": 3
   },
   "file_extension": ".py",
   "mimetype": "text/x-python",
   "name": "python",
   "nbconvert_exporter": "python",
   "pygments_lexer": "ipython3",
   "version": "3.10.14"
  }
 },
 "nbformat": 4,
 "nbformat_minor": 5
}
