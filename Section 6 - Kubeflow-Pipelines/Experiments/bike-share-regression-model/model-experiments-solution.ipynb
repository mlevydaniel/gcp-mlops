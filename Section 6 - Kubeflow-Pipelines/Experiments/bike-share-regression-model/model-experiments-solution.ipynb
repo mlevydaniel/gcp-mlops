{
 "cells": [
  {
   "cell_type": "code",
   "execution_count": 1,
   "id": "6671fe8d-9c04-4672-b444-25086eb87155",
   "metadata": {},
   "outputs": [
    {
     "name": "stderr",
     "output_type": "stream",
     "text": [
      "/var/folders/s5/rdg9kttj7n9f1wwq0lrqtz_c0000gn/T/ipykernel_21210/1540494674.py:1: DeprecationWarning: The module `kfp.v2` is deprecated and will be removed in a futureversion. Please import directly from the `kfp` namespace, instead of `kfp.v2`.\n",
      "  from kfp.v2 import dsl\n"
     ]
    }
   ],
   "source": [
    "from kfp.v2 import dsl\n",
    "from kfp.v2.dsl import (Output, Metrics, component)\n",
    "from kfp.v2 import compiler"
   ]
  },
  {
   "cell_type": "code",
   "execution_count": 2,
   "id": "60cadbb2-d926-48b2-a115-7c5107aad1c8",
   "metadata": {},
   "outputs": [
    {
     "name": "stderr",
     "output_type": "stream",
     "text": [
      "/Users/mlevydaniel/opt/miniconda3/envs/python3.10/lib/python3.10/site-packages/kfp/dsl/component_decorator.py:119: FutureWarning: The default base_image used by the @dsl.component decorator will switch from 'python:3.8' to 'python:3.9' on Oct 1, 2024. To ensure your existing components work with versions of the KFP SDK released after that date, you should provide an explicit base_image argument and ensure your component works as intended on Python 3.9.\n",
      "  return component_factory.create_component_from_func(\n"
     ]
    }
   ],
   "source": [
    "@component(\n",
    "    packages_to_install=[\"google-cloud-aiplatform\", \"gcsfs\", \"xgboost\", \"category_encoders\",\n",
    "                         \"imblearn\", \"pandas\", \"google-cloud-storage\", \"numpy\"]\n",
    ")\n",
    "def custom_training_job_component(\n",
    "    hyper_params: dict,\n",
    "    model_name: str,\n",
    "    metrics: Output[Metrics]\n",
    "):\n",
    "    import pandas as pd\n",
    "    import numpy as np\n",
    "    from sklearn.model_selection import train_test_split\n",
    "    from sklearn.ensemble import RandomForestRegressor\n",
    "    from xgboost import XGBRegressor\n",
    "    from sklearn.svm import SVR\n",
    "    from sklearn.metrics import mean_squared_error\n",
    "    from google.cloud import storage\n",
    "    from sklearn.pipeline import make_pipeline\n",
    "\n",
    "    storage_client = storage.Client()\n",
    "    bucket = storage_client.bucket(\"udemy-gcp-mlops\")\n",
    "\n",
    "\n",
    "    def load_data(filename):\n",
    "        df = pd.read_csv(filename)\n",
    "        return df\n",
    "\n",
    "\n",
    "    def preprocess_data(df):\n",
    "        df = df.rename(columns={'weathersit': 'weather',\n",
    "                                'yr': 'year',\n",
    "                                'mnth': 'month',\n",
    "                                'hr': 'hour',\n",
    "                                'hum': 'humidity',\n",
    "                                'cnt': 'count'})\n",
    "        df = df.drop(columns=['instant', 'dteday', 'year'])\n",
    "        cols = ['season', 'month', 'hour', 'holiday', 'weekday', 'workingday', 'weather']\n",
    "        for col in cols:\n",
    "            df[col] = df[col].astype('category')\n",
    "        df['count'] = np.log(df['count'])\n",
    "        df_oh = df.copy()\n",
    "        for col in cols:\n",
    "            df_oh = one_hot_encoding(df_oh, col)\n",
    "        X = df_oh.drop(columns=['atemp', 'windspeed', 'casual', 'registered', 'count'], axis=1)\n",
    "        y = df_oh['count']\n",
    "        return X, y\n",
    "\n",
    "\n",
    "    def one_hot_encoding(data, column):\n",
    "        data = pd.concat([data, pd.get_dummies(data[column], prefix=column, drop_first=True)], axis=1)\n",
    "        data = data.drop([column], axis=1)\n",
    "        return data\n",
    "\n",
    "\n",
    "    def train_model(model_name, x_train, y_train, hyper_params):\n",
    "\n",
    "        if model_name == 'random_forest':\n",
    "            max_depth = hyper_params['max_depth']\n",
    "            n_estimators = hyper_params['n_estimators']\n",
    "\n",
    "            model = RandomForestRegressor(max_depth=max_depth, n_estimators=n_estimators)\n",
    "            pipeline = make_pipeline(model)\n",
    "            pipeline.fit(x_train, y_train)\n",
    "            return pipeline\n",
    "\n",
    "        elif model_name == 'xgboost':\n",
    "            max_depth = hyper_params['max_depth']\n",
    "            learning_rate = hyper_params['learning_rate']\n",
    "            n_estimators = hyper_params['n_estimators']\n",
    "\n",
    "            model = XGBRegressor(max_depth=max_depth, learning_rate=learning_rate, n_estimators=n_estimators)\n",
    "            pipeline = make_pipeline(model)\n",
    "            pipeline.fit(x_train, y_train)\n",
    "            return pipeline\n",
    "\n",
    "        elif model_name == 'svr':\n",
    "            kernel = hyper_params['kernel']\n",
    "            C = hyper_params['C']\n",
    "            epsilon = hyper_params['epsilon']\n",
    "\n",
    "            model = SVR(kernel=kernel, C=C, epsilon=epsilon)\n",
    "            pipeline = make_pipeline(model)\n",
    "            pipeline.fit(x_train, y_train)\n",
    "            return pipeline\n",
    "\n",
    "        else:\n",
    "            raise ValueError(\"Invalid model_name. Choose from 'random_forest', 'xgboost', or 'svr'.\")\n",
    "\n",
    "    filename = 'gs://udemy-gcp-mlops/bikeshare-model/hour.csv'\n",
    "    df = load_data(filename)\n",
    "\n",
    "    X, y = preprocess_data(df)\n",
    "    X_train, X_test, y_train, y_test = train_test_split(X, y, test_size=0.25, random_state=42)\n",
    "\n",
    "    pipeline = train_model(model_name, X_train, y_train, hyper_params)\n",
    "    y_pred = pipeline.predict(X_test)\n",
    "\n",
    "    rmse = np.sqrt(mean_squared_error(y_test, y_pred))\n",
    "    metrics.log_metric(\"RMSE\", rmse)"
   ]
  },
  {
   "cell_type": "code",
   "execution_count": 3,
   "id": "9c5193d5-5478-4089-9c17-769a3506f251",
   "metadata": {},
   "outputs": [],
   "source": [
    "@dsl.pipeline(name=\"regression-model-pipeline\")\n",
    "def pipeline(\n",
    "    hyper_params: dict,\n",
    "    model_name: str\n",
    "    ):\n",
    "    custom_training_job_component(hyper_params=hyper_params, model_name=model_name)\n",
    "\n",
    "compiler.Compiler().compile(pipeline_func=pipeline, package_path=\"regression-model-experiment.json\")"
   ]
  },
  {
   "cell_type": "code",
   "execution_count": 4,
   "id": "8da1e6af-77b3-431d-a6b4-0eb168d2ac50",
   "metadata": {
    "tags": []
   },
   "outputs": [
    {
     "name": "stdout",
     "output_type": "stream",
     "text": [
      "Creating PipelineJob\n",
      "PipelineJob created. Resource name: projects/936546808722/locations/us-central1/pipelineJobs/regression-model-pipeline-20240909000728\n",
      "To use this PipelineJob in another session:\n",
      "pipeline_job = aiplatform.PipelineJob.get('projects/936546808722/locations/us-central1/pipelineJobs/regression-model-pipeline-20240909000728')\n",
      "View Pipeline Job:\n",
      "https://console.cloud.google.com/vertex-ai/locations/us-central1/pipelines/runs/regression-model-pipeline-20240909000728?project=936546808722\n",
      "Associating projects/936546808722/locations/us-central1/pipelineJobs/regression-model-pipeline-20240909000728 to Experiment: regression-model-experiment\n",
      "Creating PipelineJob\n",
      "PipelineJob created. Resource name: projects/936546808722/locations/us-central1/pipelineJobs/regression-model-pipeline-20240909000740\n",
      "To use this PipelineJob in another session:\n",
      "pipeline_job = aiplatform.PipelineJob.get('projects/936546808722/locations/us-central1/pipelineJobs/regression-model-pipeline-20240909000740')\n",
      "View Pipeline Job:\n",
      "https://console.cloud.google.com/vertex-ai/locations/us-central1/pipelines/runs/regression-model-pipeline-20240909000740?project=936546808722\n",
      "Associating projects/936546808722/locations/us-central1/pipelineJobs/regression-model-pipeline-20240909000740 to Experiment: regression-model-experiment\n",
      "Creating PipelineJob\n",
      "PipelineJob created. Resource name: projects/936546808722/locations/us-central1/pipelineJobs/regression-model-pipeline-20240909000748\n",
      "To use this PipelineJob in another session:\n",
      "pipeline_job = aiplatform.PipelineJob.get('projects/936546808722/locations/us-central1/pipelineJobs/regression-model-pipeline-20240909000748')\n",
      "View Pipeline Job:\n",
      "https://console.cloud.google.com/vertex-ai/locations/us-central1/pipelines/runs/regression-model-pipeline-20240909000748?project=936546808722\n",
      "Associating projects/936546808722/locations/us-central1/pipelineJobs/regression-model-pipeline-20240909000748 to Experiment: regression-model-experiment\n"
     ]
    }
   ],
   "source": [
    "from google.cloud import aiplatform\n",
    "\n",
    "EXPERIMENT_NAME = \"regression-model-experiment\"\n",
    "PIPELINE_ROOT = \"gs://udemy-gcp-mlops/regression-model-experiment\"\n",
    "\n",
    "runs = [\n",
    "        {'model_name': 'random_forest', 'max_depth': 5, 'n_estimators': 100},\n",
    "        {'model_name': 'xgboost', 'max_depth': 4, 'learning_rate': 0.1, 'n_estimators': 100},\n",
    "        {'model_name': 'svr', 'kernel': 'rbf', 'epsilon': 0.1, 'C': 1.0}\n",
    "]\n",
    "\n",
    "for i, run in enumerate(runs):\n",
    "\n",
    "    job = aiplatform.PipelineJob(\n",
    "        display_name=f\"{EXPERIMENT_NAME}-{i}\",\n",
    "        template_path=\"regression-model-experiment.json\",\n",
    "        pipeline_root=PIPELINE_ROOT,\n",
    "        parameter_values={\n",
    "            \"hyper_params\": run,\n",
    "            \"model_name\": run[\"model_name\"]\n",
    "        }\n",
    "    )\n",
    "    job.submit(experiment=EXPERIMENT_NAME)"
   ]
  }
 ],
 "metadata": {
  "environment": {
   "kernel": "python3",
   "name": "common-cpu.m109",
   "type": "gcloud",
   "uri": "gcr.io/deeplearning-platform-release/base-cpu:m109"
  },
  "kernelspec": {
   "display_name": "Python 3",
   "language": "python",
   "name": "python3"
  },
  "language_info": {
   "codemirror_mode": {
    "name": "ipython",
    "version": 3
   },
   "file_extension": ".py",
   "mimetype": "text/x-python",
   "name": "python",
   "nbconvert_exporter": "python",
   "pygments_lexer": "ipython3",
   "version": "3.10.14"
  }
 },
 "nbformat": 4,
 "nbformat_minor": 5
}
