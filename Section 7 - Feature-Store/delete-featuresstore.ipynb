{
 "cells": [
  {
   "cell_type": "code",
   "execution_count": null,
   "metadata": {},
   "outputs": [],
   "source": [
    "aiplatform.init(project=project_id, location=location)\n",
    "\n",
    "feature_store = aiplatform.Featurestore('projects/936546808722/locations/us-central1/featurestores/fs_credit_scoring')"
   ]
  },
  {
   "cell_type": "code",
   "execution_count": 16,
   "metadata": {},
   "outputs": [],
   "source": [
    "# List all entity types in the feature store\n",
    "entity_types = feature_store.list_entity_types()"
   ]
  },
  {
   "cell_type": "code",
   "execution_count": 18,
   "metadata": {},
   "outputs": [
    {
     "name": "stdout",
     "output_type": "stream",
     "text": [
      "Deleting entity type: et_credit_request\n",
      "Deleting EntityType : projects/936546808722/locations/us-central1/featurestores/fs_credit_scoring/entityTypes/et_credit_request\n",
      "Delete EntityType  backing LRO: projects/936546808722/locations/us-central1/operations/5774154754296905728\n",
      "EntityType deleted. . Resource name: projects/936546808722/locations/us-central1/featurestores/fs_credit_scoring/entityTypes/et_credit_request\n",
      "Entity type et_credit_request deleted.\n",
      "Deleting entity type: et_customer_credit_context\n",
      "Deleting EntityType : projects/936546808722/locations/us-central1/featurestores/fs_credit_scoring/entityTypes/et_customer_credit_context\n",
      "Delete EntityType  backing LRO: projects/936546808722/locations/us-central1/operations/3905160908938149888\n",
      "EntityType deleted. . Resource name: projects/936546808722/locations/us-central1/featurestores/fs_credit_scoring/entityTypes/et_customer_credit_context\n",
      "Entity type et_customer_credit_context deleted.\n",
      "Deleting entity type: et_customer_demographics\n",
      "Deleting EntityType : projects/936546808722/locations/us-central1/featurestores/fs_credit_scoring/entityTypes/et_customer_demographics\n",
      "Delete EntityType  backing LRO: projects/936546808722/locations/us-central1/operations/8030458167609524224\n",
      "EntityType deleted. . Resource name: projects/936546808722/locations/us-central1/featurestores/fs_credit_scoring/entityTypes/et_customer_demographics\n",
      "Entity type et_customer_demographics deleted.\n",
      "Deleting entity type: et_customer_financial_profile\n",
      "Deleting EntityType : projects/936546808722/locations/us-central1/featurestores/fs_credit_scoring/entityTypes/et_customer_financial_profile\n",
      "Delete EntityType  backing LRO: projects/936546808722/locations/us-central1/operations/1582710876098527232\n",
      "EntityType deleted. . Resource name: projects/936546808722/locations/us-central1/featurestores/fs_credit_scoring/entityTypes/et_customer_financial_profile\n",
      "Entity type et_customer_financial_profile deleted.\n",
      "Deleting feature store...\n",
      "Deleting Featurestore : projects/936546808722/locations/us-central1/featurestores/fs_credit_scoring\n",
      "Delete Featurestore  backing LRO: projects/936546808722/locations/us-central1/operations/6794220069896323072\n",
      "Featurestore deleted. . Resource name: projects/936546808722/locations/us-central1/featurestores/fs_credit_scoring\n"
     ]
    },
    {
     "ename": "AttributeError",
     "evalue": "'NoneType' object has no attribute 'result'",
     "output_type": "error",
     "traceback": [
      "\u001b[0;31m---------------------------------------------------------------------------\u001b[0m",
      "\u001b[0;31mAttributeError\u001b[0m                            Traceback (most recent call last)",
      "Cell \u001b[0;32mIn[18], line 10\u001b[0m\n\u001b[1;32m      8\u001b[0m \u001b[38;5;28mprint\u001b[39m(\u001b[38;5;124m\"\u001b[39m\u001b[38;5;124mDeleting feature store...\u001b[39m\u001b[38;5;124m\"\u001b[39m)\n\u001b[1;32m      9\u001b[0m operation \u001b[38;5;241m=\u001b[39m feature_store\u001b[38;5;241m.\u001b[39mdelete()\n\u001b[0;32m---> 10\u001b[0m \u001b[43moperation\u001b[49m\u001b[38;5;241;43m.\u001b[39;49m\u001b[43mresult\u001b[49m()  \u001b[38;5;66;03m# Wait for the operation to complete\u001b[39;00m\n\u001b[1;32m     11\u001b[0m \u001b[38;5;28mprint\u001b[39m(\u001b[38;5;124mf\u001b[39m\u001b[38;5;124m\"\u001b[39m\u001b[38;5;124mFeature store \u001b[39m\u001b[38;5;132;01m{\u001b[39;00mfeature_store_id\u001b[38;5;132;01m}\u001b[39;00m\u001b[38;5;124m deleted successfully.\u001b[39m\u001b[38;5;124m\"\u001b[39m)\n",
      "\u001b[0;31mAttributeError\u001b[0m: 'NoneType' object has no attribute 'result'"
     ]
    }
   ],
   "source": [
    "# Delete all entity types\n",
    "for entity_type in entity_types:\n",
    "    print(f\"Deleting entity type: {entity_type.name}\")\n",
    "    entity_type.delete(force=True)\n",
    "    print(f\"Entity type {entity_type.name} deleted.\")\n",
    "\n",
    "# Now delete the feature store\n",
    "print(\"Deleting feature store...\")\n",
    "operation = feature_store.delete()\n",
    "operation.result()  # Wait for the operation to complete"
   ]
  }
 ],
 "metadata": {
  "kernelspec": {
   "display_name": "python3.10",
   "language": "python",
   "name": "python3"
  },
  "language_info": {
   "codemirror_mode": {
    "name": "ipython",
    "version": 3
   },
   "file_extension": ".py",
   "mimetype": "text/x-python",
   "name": "python",
   "nbconvert_exporter": "python",
   "pygments_lexer": "ipython3",
   "version": "3.10.14"
  }
 },
 "nbformat": 4,
 "nbformat_minor": 2
}
