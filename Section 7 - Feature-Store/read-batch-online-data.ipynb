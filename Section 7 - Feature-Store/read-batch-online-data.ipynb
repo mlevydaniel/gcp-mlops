{
 "cells": [
  {
   "cell_type": "code",
   "execution_count": null,
   "id": "3fabdc34",
   "metadata": {},
   "outputs": [],
   "source": [
    "from google.cloud import aiplatform\n",
    "import pandas as pd\n",
    "\n",
    "aiplatform.init(project='dataanalytics-347914',location='us-central1')\n",
    "\n",
    "credit_request_entity_type = aiplatform.EntityType('projects/936546808722/locations/us-central1/featurestores/fs_credit_scoring/entityTypes/et_credit_request')\n",
    "\n",
    "customer_financial_profile_entity_type = aiplatform.EntityType('projects/936546808722/locations/us-central1/featurestores/fs_credit_scoring/entityTypes/et_customer_financial_profile')\n",
    "\n",
    "credit_context_entity_type = aiplatform.EntityType('projects/936546808722/locations/us-central1/featurestores/fs_credit_scoring/entityTypes/et_customer_credit_context')\n",
    "\n",
    "customer_demographics_entity_type = aiplatform.EntityType('projects/936546808722/locations/us-central1/featurestores/fs_credit_scoring/entityTypes/et_customer_demographics')\n",
    "\n",
    "credit_scoring_feature_store = aiplatform.Featurestore('projects/936546808722/locations/us-central1/featurestores/fs_credit_scoring')"
   ]
  },
  {
   "cell_type": "code",
   "execution_count": 6,
   "id": "ac4d2fde",
   "metadata": {},
   "outputs": [
    {
     "data": {
      "text/html": [
       "<div>\n",
       "<style scoped>\n",
       "    .dataframe tbody tr th:only-of-type {\n",
       "        vertical-align: middle;\n",
       "    }\n",
       "\n",
       "    .dataframe tbody tr th {\n",
       "        vertical-align: top;\n",
       "    }\n",
       "\n",
       "    .dataframe thead th {\n",
       "        text-align: right;\n",
       "    }\n",
       "</style>\n",
       "<table border=\"1\" class=\"dataframe\">\n",
       "  <thead>\n",
       "    <tr style=\"text-align: right;\">\n",
       "      <th></th>\n",
       "      <th>entity_id</th>\n",
       "      <th>credit_duration</th>\n",
       "      <th>credit_score</th>\n",
       "      <th>credit_amount</th>\n",
       "    </tr>\n",
       "  </thead>\n",
       "  <tbody>\n",
       "    <tr>\n",
       "      <th>0</th>\n",
       "      <td>147</td>\n",
       "      <td>6.0</td>\n",
       "      <td>466.0</td>\n",
       "      <td>8600.0</td>\n",
       "    </tr>\n",
       "    <tr>\n",
       "      <th>1</th>\n",
       "      <td>248</td>\n",
       "      <td>6.0</td>\n",
       "      <td>202.0</td>\n",
       "      <td>12040.0</td>\n",
       "    </tr>\n",
       "    <tr>\n",
       "      <th>2</th>\n",
       "      <td>112</td>\n",
       "      <td>15.0</td>\n",
       "      <td>736.0</td>\n",
       "      <td>3920.0</td>\n",
       "    </tr>\n",
       "    <tr>\n",
       "      <th>3</th>\n",
       "      <td>222</td>\n",
       "      <td>12.0</td>\n",
       "      <td>732.0</td>\n",
       "      <td>12000.0</td>\n",
       "    </tr>\n",
       "  </tbody>\n",
       "</table>\n",
       "</div>"
      ],
      "text/plain": [
       "  entity_id  credit_duration  credit_score  credit_amount\n",
       "0       147              6.0         466.0         8600.0\n",
       "1       248              6.0         202.0        12040.0\n",
       "2       112             15.0         736.0         3920.0\n",
       "3       222             12.0         732.0        12000.0"
      ]
     },
     "execution_count": 6,
     "metadata": {},
     "output_type": "execute_result"
    }
   ],
   "source": [
    "# Online serving\n",
    "\n",
    "temp_df = credit_request_entity_type.read(\n",
    "    feature_ids=[\"credit_duration\", \"credit_score\", \"credit_amount\"],\n",
    "    entity_ids=[\"147\", \"248\", \"112\", \"222\"]\n",
    ")\n",
    "temp_df.head()"
   ]
  },
  {
   "cell_type": "code",
   "execution_count": null,
   "id": "80d81a20-5163-4821-8872-8f6d4e6d4ae5",
   "metadata": {},
   "outputs": [],
   "source": [
    "# Batch retrieval (incomplete)\n",
    "df_batch_read_credit_request = pd.read_csv(\"batch_read_credit_request.csv\")\n",
    "\n",
    "temp_df = credit_scoring_feature_store.batch_serve_to_df(\n",
    "    serving_feature_ids={\n",
    "        \"et_credit_request\": [\"credit_duration\", \"credit_score\", \"credit_amount\"]\n",
    "    },\n",
    "    read_instances_df=df_batch_read_credit_request\n",
    ")\n",
    "temp_df.head()"
   ]
  }
 ],
 "metadata": {
  "environment": {
   "kernel": "python3",
   "name": "common-cpu.m109",
   "type": "gcloud",
   "uri": "gcr.io/deeplearning-platform-release/base-cpu:m109"
  },
  "kernelspec": {
   "display_name": "Python 3",
   "language": "python",
   "name": "python3"
  },
  "language_info": {
   "codemirror_mode": {
    "name": "ipython",
    "version": 3
   },
   "file_extension": ".py",
   "mimetype": "text/x-python",
   "name": "python",
   "nbconvert_exporter": "python",
   "pygments_lexer": "ipython3",
   "version": "3.10.14"
  }
 },
 "nbformat": 4,
 "nbformat_minor": 5
}
